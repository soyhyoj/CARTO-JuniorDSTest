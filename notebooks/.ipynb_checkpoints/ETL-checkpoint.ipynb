{
 "metadata": {
  "language_info": {
   "codemirror_mode": {
    "name": "ipython",
    "version": 3
   },
   "file_extension": ".py",
   "mimetype": "text/x-python",
   "name": "python",
   "nbconvert_exporter": "python",
   "pygments_lexer": "ipython3",
   "version": "3.8.5-final"
  },
  "orig_nbformat": 2,
  "kernelspec": {
   "name": "python3",
   "display_name": "Python 3"
  }
 },
 "nbformat": 4,
 "nbformat_minor": 2,
 "cells": [
  {
   "cell_type": "code",
   "execution_count": 3,
   "metadata": {},
   "outputs": [
    {
     "output_type": "error",
     "ename": "SyntaxError",
     "evalue": "invalid syntax (<ipython-input-3-40a5689a4062>, line 1)",
     "traceback": [
      "\u001b[0;36m  File \u001b[0;32m\"<ipython-input-3-40a5689a4062>\"\u001b[0;36m, line \u001b[0;32m1\u001b[0m\n\u001b[0;31m    import psycopg2-binary\u001b[0m\n\u001b[0m                   ^\u001b[0m\n\u001b[0;31mSyntaxError\u001b[0m\u001b[0;31m:\u001b[0m invalid syntax\n"
     ]
    }
   ],
   "source": [
    "import psycopg2"
   ]
  },
  {
   "cell_type": "code",
   "execution_count": null,
   "metadata": {},
   "outputs": [],
   "source": [
    "# try connection to the database 'carto-juniordstest_postgres_1'\n",
    "\n",
    "try:\n",
    "    #conn for connection\n",
    "    conn_tr =  psycopg2.connect(dbname='transactional', user='postgres', host='127.0.0.1', port='5444')\n",
    "except psycopg2.DatabaseError:\n",
    "    print (\"I am unable to connect the database\")"
   ]
  }
 ]
}