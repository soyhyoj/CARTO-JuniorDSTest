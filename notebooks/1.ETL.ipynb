{
 "cells": [
  {
   "cell_type": "markdown",
   "metadata": {},
   "source": [
    "# ETL\n",
    "\n",
    "1. Connect to the database (postgis)\n",
    "2. Create tables for each month's data ('taxi_jan', 'taxi_apr', 'taxi_jul')\n",
    "3. Read original text data and insert those values to the corresponding tables"
   ]
  },
  {
   "cell_type": "code",
   "execution_count": 1,
   "metadata": {},
   "outputs": [],
   "source": [
    "# Import libraries\n",
    "import psycopg2\n",
    "import glob"
   ]
  },
  {
   "cell_type": "code",
   "execution_count": 2,
   "metadata": {},
   "outputs": [
    {
     "name": "stdout",
     "output_type": "stream",
     "text": [
      "77\n"
     ]
    },
    {
     "data": {
      "text/plain": [
       "['../data/NY_taxi_data/yellow_tripdata_2015-01_00',\n",
       " '../data/NY_taxi_data/yellow_tripdata_2015-01_01',\n",
       " '../data/NY_taxi_data/yellow_tripdata_2015-01_02']"
      ]
     },
     "execution_count": 2,
     "metadata": {},
     "output_type": "execute_result"
    }
   ],
   "source": [
    "# List of NY taxi data files ready to iter\n",
    "filenames = sorted(glob.glob('../data/NY_taxi_data/*')) # list all files in ascending order\n",
    "print(len(filenames))\n",
    "filenames[:3]"
   ]
  },
  {
   "cell_type": "code",
   "execution_count": 3,
   "metadata": {},
   "outputs": [
    {
     "name": "stdout",
     "output_type": "stream",
     "text": [
      "26\n",
      "27\n",
      "24\n"
     ]
    }
   ],
   "source": [
    "# Separate Jan, Apr, Jul data\n",
    "Jan = []\n",
    "Apr = []\n",
    "Jul = []\n",
    "for i in range(len(filenames)):\n",
    "    if filenames[i][-5:-3] == '01':\n",
    "        Jan.append(filenames[i])\n",
    "    elif filenames[i][-5:-3] == '04':\n",
    "        Apr.append(filenames[i])\n",
    "    else:\n",
    "        Jul.append(filenames[i])\n",
    "\n",
    "print(len(Jan)) # list of data files from 2015-01\n",
    "print(len(Apr))\n",
    "print(len(Jul))"
   ]
  },
  {
   "cell_type": "code",
   "execution_count": 4,
   "metadata": {},
   "outputs": [],
   "source": [
    "tablenames = ['taxi_jan', 'taxi_apr', 'taxi_jul']"
   ]
  },
  {
   "cell_type": "code",
   "execution_count": 5,
   "metadata": {},
   "outputs": [],
   "source": [
    "def connect_to_db():\n",
    "    # Try connection to the database 'carto'\n",
    "    try:\n",
    "        #conn for connection\n",
    "        conn =  psycopg2.connect(dbname='carto', user='carto', password='carto', host='postgis', port='5432')\n",
    "    except psycopg2.DatabaseError:\n",
    "        print (\"I am unable to connect the database\")\n",
    "    return conn"
   ]
  },
  {
   "cell_type": "code",
   "execution_count": 6,
   "metadata": {},
   "outputs": [],
   "source": [
    "# Create a table called 'taxi_x' inside the postgis database\n",
    "def create_table(tablename):\n",
    "    # connect to the db\n",
    "    conn = connect_to_db()\n",
    "\n",
    "    # Prepare a query to create table for NY taxi data\n",
    "    q_create_table = f\"\"\"\n",
    "                    drop table if exists {tablename};\n",
    "                    create table {tablename}\n",
    "                    (\n",
    "                        vendorID int,\n",
    "                        tpep_pickup_datetime timestamp,\n",
    "                        tpep_dropoff_datetime timestamp,\n",
    "                        passenger_count int,\n",
    "                        trip_distance numeric,\n",
    "                        pickup_longitude numeric,\n",
    "                        pickup_latitude numeric,\n",
    "                        RateCodeID int,\n",
    "                        store_and_fwd_flag char(1),\n",
    "                        dropoff_longitude numeric,\n",
    "                        dropoff_latitude numeric,\n",
    "                        payment_type int,\n",
    "                        fare_amount numeric,\n",
    "                        extra numeric,\n",
    "                        mta_tax numeric,\n",
    "                        tip_amount numeric,\n",
    "                        tolls_amount numeric,\n",
    "                        improvement_surcharge numeric,\n",
    "                        total_amount numeric\n",
    "                    )\n",
    "                    \"\"\"\n",
    "\n",
    "    try:\n",
    "        cur = conn.cursor()  # initiate cursor (communication with db)\n",
    "        cur.execute(q_create_table)  # execute the query\n",
    "        conn.commit()\n",
    "        print(f'{tablename} created')\n",
    "\n",
    "    except psycopg2.DatabaseError:\n",
    "        print (\"Failed to create the table\")\n",
    "\n",
    "    # Close the communication & connection with the postgis\n",
    "    finally:\n",
    "        cur.close()\n",
    "        conn.close ()"
   ]
  },
  {
   "cell_type": "code",
   "execution_count": 7,
   "metadata": {},
   "outputs": [
    {
     "name": "stdout",
     "output_type": "stream",
     "text": [
      "taxi_jan created\n",
      "taxi_apr created\n",
      "taxi_jul created\n"
     ]
    }
   ],
   "source": [
    "# Create a table for month X\n",
    "for tablename in tablenames:\n",
    "    create_table(tablename)"
   ]
  },
  {
   "cell_type": "code",
   "execution_count": 8,
   "metadata": {
    "tags": []
   },
   "outputs": [],
   "source": [
    "def fill_table_with_data(filename, tablename):\n",
    "    # connect to the db\n",
    "    conn = connect_to_db()\n",
    "\n",
    "    # A query to insert data (row by row) to the table taxi\n",
    "    q_insert_data = f'''insert into {tablename}\n",
    "                    (\n",
    "                                vendorID,\n",
    "                                tpep_pickup_datetime,\n",
    "                                tpep_dropoff_datetime,\n",
    "                                passenger_count,\n",
    "                                trip_distance,\n",
    "                                pickup_longitude,\n",
    "                                pickup_latitude,\n",
    "                                RateCodeID,\n",
    "                                store_and_fwd_flag,\n",
    "                                dropoff_longitude,\n",
    "                                dropoff_latitude,\n",
    "                                payment_type,\n",
    "                                fare_amount,\n",
    "                                extra,\n",
    "                                mta_tax,\n",
    "                                tip_amount,\n",
    "                                tolls_amount,\n",
    "                                improvement_surcharge,\n",
    "                                total_amount\n",
    "                        )\n",
    "                        values (%s,%s,%s,%s,%s, %s,%s,%s,%s,%s, %s,%s,%s,%s,%s, %s,%s,%s,%s)'''\n",
    "\n",
    "    try:\n",
    "        cur = conn.cursor()\n",
    "        total = 0  # count how many rows are inserted\n",
    "        \n",
    "        with open(filename, 'r') as file:\n",
    "            # rows: a list of tuples\n",
    "            # a row: a tuple of 19 string values\n",
    "            rows = [tuple(line.strip().split(',')) for line in file if line]\n",
    "            \n",
    "            # Fill the table by inserting data row by row iteration\n",
    "            for row in rows:\n",
    "                if row[0].isalpha(): # Skip header if exists\n",
    "                    pass\n",
    "                elif row[5:7] == ('0','0') or row[9:11] == ('0','0'): # Skip if no geo data\n",
    "                    pass\n",
    "                else:\n",
    "                    cur.execute(q_insert_data, row)\n",
    "                    total += 1\n",
    "\n",
    "            conn.commit() # Commit the changes to the db\n",
    "            print(f'{total} rows inserted out of {len(rows)}')\n",
    "\n",
    "    # Print error message if query fails\n",
    "    except psycopg2.DatabaseError:\n",
    "        print (\"Failed to copy data to the table\")\n",
    "\n",
    "    finally:\n",
    "        cur.close()\n",
    "        conn.close ()"
   ]
  },
  {
   "cell_type": "code",
   "execution_count": 9,
   "metadata": {
    "tags": []
   },
   "outputs": [
    {
     "name": "stdout",
     "output_type": "stream",
     "text": [
      "489619 rows inserted out of 500000\n",
      "489654 rows inserted out of 500000\n",
      "489574 rows inserted out of 500000\n",
      "489456 rows inserted out of 500000\n",
      "489867 rows inserted out of 500000\n",
      "489604 rows inserted out of 500000\n",
      "489581 rows inserted out of 500000\n",
      "489417 rows inserted out of 500000\n",
      "489577 rows inserted out of 500000\n",
      "489493 rows inserted out of 500000\n",
      "489664 rows inserted out of 500000\n",
      "489508 rows inserted out of 500000\n",
      "489887 rows inserted out of 500000\n",
      "489905 rows inserted out of 500000\n",
      "489556 rows inserted out of 500000\n",
      "489652 rows inserted out of 500000\n",
      "489618 rows inserted out of 500000\n",
      "489624 rows inserted out of 500000\n",
      "489529 rows inserted out of 500000\n",
      "489676 rows inserted out of 500000\n",
      "489647 rows inserted out of 500000\n",
      "489721 rows inserted out of 500000\n",
      "489660 rows inserted out of 500000\n",
      "489608 rows inserted out of 500000\n",
      "489424 rows inserted out of 500000\n",
      "243813 rows inserted out of 248987\n"
     ]
    }
   ],
   "source": [
    "# Check the function outcome with a subset of data\n",
    "for i in range(len(Jan)):\n",
    "    fill_table_with_data(Jan[i], 'taxi_jan')"
   ]
  },
  {
   "cell_type": "markdown",
   "metadata": {},
   "source": [
    "## Note:\n",
    "Failed to insert data from a file (Jan[17]) because this file has many rows have wrong coordinates of pickup and/or dropoff: (0,0)\n",
    "\n",
    "Refactored the fill_table_with_data function to fix this issue."
   ]
  },
  {
   "cell_type": "code",
   "execution_count": 11,
   "metadata": {},
   "outputs": [
    {
     "name": "stdout",
     "output_type": "stream",
     "text": [
      "490624 rows inserted out of 500000\n",
      "490729 rows inserted out of 500000\n",
      "490839 rows inserted out of 500000\n",
      "490676 rows inserted out of 500000\n",
      "490739 rows inserted out of 500000\n",
      "490844 rows inserted out of 500000\n",
      "490963 rows inserted out of 500000\n",
      "490871 rows inserted out of 500000\n",
      "490740 rows inserted out of 500000\n",
      "490836 rows inserted out of 500000\n",
      "490870 rows inserted out of 500000\n",
      "490717 rows inserted out of 500000\n",
      "490856 rows inserted out of 500000\n",
      "490639 rows inserted out of 500000\n",
      "490806 rows inserted out of 500000\n",
      "490667 rows inserted out of 500000\n",
      "490719 rows inserted out of 500000\n",
      "490925 rows inserted out of 500000\n",
      "490799 rows inserted out of 500000\n",
      "490681 rows inserted out of 500000\n",
      "490700 rows inserted out of 500000\n",
      "490798 rows inserted out of 500000\n",
      "490891 rows inserted out of 500000\n",
      "490781 rows inserted out of 500000\n",
      "490679 rows inserted out of 500000\n",
      "490704 rows inserted out of 500000\n",
      "70505 rows inserted out of 71790\n"
     ]
    }
   ],
   "source": [
    "# Load all the NY taxi data from 2015-Apr to the database\n",
    "for i in range(len(Apr)):\n",
    "    fill_table_with_data(Apr[i], 'taxi_apr')"
   ]
  },
  {
   "cell_type": "code",
   "execution_count": 12,
   "metadata": {},
   "outputs": [
    {
     "name": "stdout",
     "output_type": "stream",
     "text": [
      "492271 rows inserted out of 500000\n",
      "492293 rows inserted out of 500000\n",
      "492249 rows inserted out of 500000\n",
      "492168 rows inserted out of 500000\n",
      "492148 rows inserted out of 500000\n",
      "492519 rows inserted out of 500000\n",
      "492174 rows inserted out of 500000\n",
      "491991 rows inserted out of 500000\n",
      "492203 rows inserted out of 500000\n",
      "492355 rows inserted out of 500000\n",
      "492647 rows inserted out of 500000\n",
      "492037 rows inserted out of 500000\n",
      "492405 rows inserted out of 500000\n",
      "492104 rows inserted out of 500000\n",
      "492033 rows inserted out of 500000\n",
      "492356 rows inserted out of 500000\n",
      "492418 rows inserted out of 500000\n",
      "492063 rows inserted out of 500000\n",
      "492692 rows inserted out of 500000\n",
      "492394 rows inserted out of 500000\n",
      "492548 rows inserted out of 500000\n",
      "492169 rows inserted out of 500000\n",
      "490694 rows inserted out of 500000\n",
      "61091 rows inserted out of 62784\n"
     ]
    }
   ],
   "source": [
    "# Load all the NY taxi data from 2015-Jul to the database\n",
    "for i in range(len(Jul)):\n",
    "    fill_table_with_data(Jul[i], 'taxi_jul')"
   ]
  },
  {
   "cell_type": "markdown",
   "metadata": {},
   "source": [
    "## End of basic ETL\n",
    "\n",
    "-----------------------------------------------------------\n",
    "\n",
    "## Next step: Data transformation to simplify EDA\n",
    "\n",
    "* Create a query to generate new geometry columns using longitudes & latitudes\n"
   ]
  }
 ],
 "metadata": {
  "kernelspec": {
   "display_name": "Python 3",
   "language": "python",
   "name": "python3"
  },
  "language_info": {
   "codemirror_mode": {
    "name": "ipython",
    "version": 3
   },
   "file_extension": ".py",
   "mimetype": "text/x-python",
   "name": "python",
   "nbconvert_exporter": "python",
   "pygments_lexer": "ipython3",
   "version": "3.8.6"
  }
 },
 "nbformat": 4,
 "nbformat_minor": 2
}
