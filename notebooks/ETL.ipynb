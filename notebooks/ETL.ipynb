{
 "metadata": {
  "language_info": {
   "codemirror_mode": {
    "name": "ipython",
    "version": 3
   },
   "file_extension": ".py",
   "mimetype": "text/x-python",
   "name": "python",
   "nbconvert_exporter": "python",
   "pygments_lexer": "ipython3",
   "version": "3.8.5-final"
  },
  "orig_nbformat": 2,
  "kernelspec": {
   "name": "python3",
   "display_name": "Python 3"
  }
 },
 "nbformat": 4,
 "nbformat_minor": 2,
 "cells": [
  {
   "cell_type": "code",
   "execution_count": 3,
   "metadata": {},
   "outputs": [],
   "source": [
    "import psycopg2\n",
    "import glob"
   ]
  },
  {
   "cell_type": "code",
   "execution_count": 4,
   "metadata": {},
   "outputs": [],
   "source": [
    "# Try connection to the database 'carto'\n",
    "try:\n",
    "    #conn for connection\n",
    "    conn =  psycopg2.connect(dbname='carto', user='carto', password='carto', host='postgis', port='5432')\n",
    "except psycopg2.DatabaseError:\n",
    "    print (\"I am unable to connect the database\")"
   ]
  },
  {
   "cell_type": "code",
   "execution_count": 5,
   "metadata": {},
   "outputs": [],
   "source": [
    "# A query to create table for NY taxi data\n",
    "q_create_table = \"\"\"\n",
    "                 DROP TABLE IF EXISTS taxi;\n",
    "                 CREATE TABLE taxi\n",
    "                 (\n",
    "                         VendorID bytea,\n",
    "                         tpep_pickup_datetime timestamp,\n",
    "                         tpep_dropoff_datetime timestamp,\n",
    "                         passenger_count int,\n",
    "                         trip_distance numeric,\n",
    "                         pickup_point geography(Point),\n",
    "                         RateCodeID int,\n",
    "                         store_and_fwd_flag bytea,\n",
    "                         dropoff_point geography(Point),\n",
    "                         payment_type int,\n",
    "                         fare_amount numeric,\n",
    "                         extra bytea,\n",
    "                         mta_tax numeric,\n",
    "                         tip_amount numeric,\n",
    "                         tolls_amount numeric,\n",
    "                         improvement_surcharge numeric,\n",
    "                         total_amount numeric\n",
    "                )\n",
    "                \"\"\"\n"
   ]
  },
  {
   "cell_type": "code",
   "execution_count": 6,
   "metadata": {},
   "outputs": [
    {
     "output_type": "stream",
     "name": "stdout",
     "text": [
      "Table created\n"
     ]
    }
   ],
   "source": [
    "try:\n",
    "    cur = conn.cursor()\n",
    "    cur.execute(q_create_table)\n",
    "    conn.commit()\n",
    "    print('Table created')\n",
    "\n",
    "except psycopg2.DatabaseError:\n",
    "    print (\"Failed to create the table\")"
   ]
  },
  {
   "cell_type": "code",
   "execution_count": 6,
   "metadata": {},
   "outputs": [],
   "source": [
    "# Create the list of NY taxi data files\n"
   ]
  },
  {
   "cell_type": "code",
   "execution_count": 58,
   "metadata": {},
   "outputs": [
    {
     "output_type": "stream",
     "name": "stdout",
     "text": [
      "Failed to copy the data\n"
     ]
    }
   ],
   "source": [
    "q_copy_data = '''\n",
    "              copy taxi\n",
    "              from'../data/NY_taxi_data/yellow_tripdata_2015-01_00.txt' delimiter ',' csv header;\n",
    "              '''\n",
    "\n",
    "try:\n",
    "    cur.execute(q_copy_data)\n",
    "    conn.commit()\n",
    "    print('Data copied to the table')\n",
    "\n",
    "except psycopg2.DatabaseError:\n",
    "    print (\"Failed to copy the data\")"
   ]
  },
  {
   "cell_type": "code",
   "execution_count": null,
   "metadata": {},
   "outputs": [],
   "source": []
  },
  {
   "cell_type": "code",
   "execution_count": 7,
   "metadata": {
    "tags": []
   },
   "outputs": [
    {
     "output_type": "error",
     "ename": "TypeError",
     "evalue": "'tuple' object does not support item assignment",
     "traceback": [
      "\u001b[0;31m---------------------------------------------------------------------------\u001b[0m",
      "\u001b[0;31mTypeError\u001b[0m                                 Traceback (most recent call last)",
      "\u001b[0;32m<ipython-input-7-8e38a87f9d0a>\u001b[0m in \u001b[0;36m<module>\u001b[0;34m\u001b[0m\n\u001b[1;32m     24\u001b[0m \u001b[0;34m\u001b[0m\u001b[0m\n\u001b[1;32m     25\u001b[0m         \u001b[0;32mfor\u001b[0m \u001b[0mrow\u001b[0m \u001b[0;32min\u001b[0m \u001b[0mrows\u001b[0m\u001b[0;34m:\u001b[0m\u001b[0;34m\u001b[0m\u001b[0;34m\u001b[0m\u001b[0m\n\u001b[0;32m---> 26\u001b[0;31m             \u001b[0mrow\u001b[0m\u001b[0;34m[\u001b[0m\u001b[0;36m5\u001b[0m\u001b[0;34m]\u001b[0m \u001b[0;34m=\u001b[0m \u001b[0;34mf'point({row[5]} {row[6]})'\u001b[0m\u001b[0;34m\u001b[0m\u001b[0;34m\u001b[0m\u001b[0m\n\u001b[0m\u001b[1;32m     27\u001b[0m             \u001b[0mrow\u001b[0m\u001b[0;34m[\u001b[0m\u001b[0;36m10\u001b[0m\u001b[0;34m]\u001b[0m \u001b[0;34m=\u001b[0m \u001b[0;34mf'point({row[10]} {row[11]})'\u001b[0m\u001b[0;34m\u001b[0m\u001b[0;34m\u001b[0m\u001b[0m\n\u001b[1;32m     28\u001b[0m             \u001b[0mrow\u001b[0m\u001b[0;34m.\u001b[0m\u001b[0mpop\u001b[0m\u001b[0;34m(\u001b[0m\u001b[0;36m6\u001b[0m\u001b[0;34m)\u001b[0m\u001b[0;34m\u001b[0m\u001b[0;34m\u001b[0m\u001b[0m\n",
      "\u001b[0;31mTypeError\u001b[0m: 'tuple' object does not support item assignment"
     ]
    }
   ],
   "source": [
    "try:\n",
    "    with open('../data/NY_taxi_data/yellow_tripdata_2015-01_01', 'r') as file:\n",
    "        rows = [tuple(line.strip().split(',')) for line in file]\n",
    "        \n",
    "        query = f'''insert into taxi \n",
    "                  (VendorID,\n",
    "                   tpep_pickup_datetime,\n",
    "                   tpep_dropoff_datetime,\n",
    "                   passenger_count,\n",
    "                   trip_distance,\n",
    "                   pickup_point,\n",
    "                   RateCodeID,\n",
    "                   store_and_fwd_flag,\n",
    "                   dropoff_point,\n",
    "                   payment_type,\n",
    "                   fare_amount,\n",
    "                   extra,\n",
    "                   mta_tax,\n",
    "                   tip_amount,\n",
    "                   tolls_amount,\n",
    "                   improvement_surcharge,\n",
    "                   total_amount)\n",
    "                  values (%s,%s,%s,%s,%s, %s,%s,%s,%s,%s, %s,%s,%s,%s,%s, %s,%s,%s,%s)'''\n",
    "        \n",
    "        for row in rows:\n",
    "            row[5] = f'point({row[5]} {row[6]})'\n",
    "            row[10] = f'point({row[10]} {row[11]})'\n",
    "            row.pop(6)\n",
    "        #     # row.pop()\n",
    "        #     # point2 = f'point({row[6]} {row[7]})'\n",
    "            print(row)\n",
    "        #     # cur.execute(query, row)\n",
    "        #     break\n",
    "        # print(query)\n",
    "    # conn.commit()\n",
    "    print('Data inserted to the table')\n",
    "\n",
    "except psycopg2.DatabaseError:\n",
    "    print (\"Failed to copy data to the table\")"
   ]
  },
  {
   "cell_type": "code",
   "execution_count": null,
   "metadata": {},
   "outputs": [],
   "source": []
  },
  {
   "cell_type": "code",
   "execution_count": null,
   "metadata": {},
   "outputs": [],
   "source": []
  },
  {
   "cell_type": "code",
   "execution_count": null,
   "metadata": {},
   "outputs": [],
   "source": [
    "#close connection for this client\n",
    "if conn:\n",
    "    conn.close ()"
   ]
  }
 ]
}