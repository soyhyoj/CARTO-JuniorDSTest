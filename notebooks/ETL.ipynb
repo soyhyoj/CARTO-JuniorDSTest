{
 "metadata": {
  "language_info": {
   "codemirror_mode": {
    "name": "ipython",
    "version": 3
   },
   "file_extension": ".py",
   "mimetype": "text/x-python",
   "name": "python",
   "nbconvert_exporter": "python",
   "pygments_lexer": "ipython3",
   "version": "3.8.5-final"
  },
  "orig_nbformat": 2,
  "kernelspec": {
   "name": "python3",
   "display_name": "Python 3"
  }
 },
 "nbformat": 4,
 "nbformat_minor": 2,
 "cells": [
  {
   "cell_type": "code",
   "execution_count": 1,
   "metadata": {},
   "outputs": [],
   "source": [
    "import psycopg2\n",
    "import glob"
   ]
  },
  {
   "cell_type": "code",
   "execution_count": 2,
   "metadata": {},
   "outputs": [
    {
     "output_type": "stream",
     "name": "stdout",
     "text": [
      "77\n"
     ]
    },
    {
     "output_type": "execute_result",
     "data": {
      "text/plain": [
       "['../data/NY_taxi_data/yellow_tripdata_2015-01_00',\n",
       " '../data/NY_taxi_data/yellow_tripdata_2015-01_01',\n",
       " '../data/NY_taxi_data/yellow_tripdata_2015-01_02']"
      ]
     },
     "metadata": {},
     "execution_count": 2
    }
   ],
   "source": [
    "# List of NY taxi data files ready to iter\n",
    "filenames = sorted(glob.glob('../data/NY_taxi_data/*')) # list all files in ascending order\n",
    "print(len(filenames))\n",
    "filenames[:3]"
   ]
  },
  {
   "cell_type": "code",
   "execution_count": 3,
   "metadata": {},
   "outputs": [
    {
     "output_type": "stream",
     "name": "stdout",
     "text": [
      "26\n27\n24\n"
     ]
    }
   ],
   "source": [
    "# Separate Jan, Apr, Jul data\n",
    "Jan = []\n",
    "Apr = []\n",
    "Jul = []\n",
    "for i in range(len(filenames)):\n",
    "    if filenames[i][-5:-3] == '01':\n",
    "        Jan.append(filenames[i])\n",
    "    elif filenames[i][-5:-3] == '04':\n",
    "        Apr.append(filenames[i])\n",
    "    else:\n",
    "        Jul.append(filenames[i])\n",
    "\n",
    "print(len(Jan)) # list of data files from 2015-01\n",
    "print(len(Apr))\n",
    "print(len(Jul))"
   ]
  },
  {
   "cell_type": "code",
   "execution_count": 4,
   "metadata": {},
   "outputs": [],
   "source": [
    "tablenames = ['taxi_jan', 'taxi_apr', 'taxi_jul']"
   ]
  },
  {
   "cell_type": "code",
   "execution_count": 5,
   "metadata": {},
   "outputs": [],
   "source": [
    "def connect_to_db():\n",
    "    # Try connection to the database 'carto'\n",
    "    try:\n",
    "        #conn for connection\n",
    "        conn =  psycopg2.connect(dbname='carto', user='carto', password='carto', host='postgis', port='5432')\n",
    "    except psycopg2.DatabaseError:\n",
    "        print (\"I am unable to connect the database\")\n",
    "    return conn"
   ]
  },
  {
   "cell_type": "code",
   "execution_count": 6,
   "metadata": {},
   "outputs": [],
   "source": [
    "# Create a table called 'taxi_x' inside the postgis database\n",
    "def create_table(tablename):\n",
    "    # connect to the db\n",
    "    conn = connect_to_db()\n",
    "\n",
    "    # Prepare a query to create table for NY taxi data\n",
    "    q_create_table = f\"\"\"\n",
    "                    drop table if exists {tablename};\n",
    "                    create table {tablename}\n",
    "                    (\n",
    "                        vendorID int,\n",
    "                        tpep_pickup_datetime timestamp,\n",
    "                        tpep_dropoff_datetime timestamp,\n",
    "                        passenger_count int,\n",
    "                        trip_distance numeric,\n",
    "                        pickup_longitude numeric,\n",
    "                        pickup_latitude numeric,\n",
    "                        RateCodeID int,\n",
    "                        store_and_fwd_flag char(1),\n",
    "                        dropoff_longitude numeric,\n",
    "                        dropoff_latitude numeric,\n",
    "                        payment_type int,\n",
    "                        fare_amount numeric,\n",
    "                        extra numeric,\n",
    "                        mta_tax numeric,\n",
    "                        tip_amount numeric,\n",
    "                        tolls_amount numeric,\n",
    "                        improvement_surcharge numeric,\n",
    "                        total_amount numeric\n",
    "                    )\n",
    "                    \"\"\"\n",
    "\n",
    "    try:\n",
    "        cur = conn.cursor()  # initiate cursor (communication with db)\n",
    "        cur.execute(q_create_table)  # execute the query\n",
    "        conn.commit()\n",
    "        print(f'{tablename} created')\n",
    "\n",
    "    except psycopg2.DatabaseError:\n",
    "        print (\"Failed to create the table\")\n",
    "\n",
    "    # Close the communication & connection with the postgis\n",
    "    finally:\n",
    "        cur.close()\n",
    "        conn.close ()"
   ]
  },
  {
   "cell_type": "code",
   "execution_count": 7,
   "metadata": {},
   "outputs": [
    {
     "output_type": "stream",
     "name": "stdout",
     "text": [
      "taxi_jan created\ntaxi_apr created\ntaxi_jul created\n"
     ]
    }
   ],
   "source": [
    "# Create a table for month X\n",
    "for tablename in tablenames:\n",
    "    create_table(tablename)"
   ]
  },
  {
   "cell_type": "code",
   "execution_count": 8,
   "metadata": {
    "tags": []
   },
   "outputs": [],
   "source": [
    "def fill_table_with_data(filename, tablename):\n",
    "    # connect to the db\n",
    "    conn = connect_to_db()\n",
    "\n",
    "    # A query to insert data (row by row) to the table taxi\n",
    "    q_insert_data = f'''insert into {tablename}\n",
    "                    (\n",
    "                                vendorID,\n",
    "                                tpep_pickup_datetime,\n",
    "                                tpep_dropoff_datetime,\n",
    "                                passenger_count,\n",
    "                                trip_distance,\n",
    "                                pickup_longitude,\n",
    "                                pickup_latitude,\n",
    "                                RateCodeID,\n",
    "                                store_and_fwd_flag,\n",
    "                                dropoff_longitude,\n",
    "                                dropoff_latitude,\n",
    "                                payment_type,\n",
    "                                fare_amount,\n",
    "                                extra,\n",
    "                                mta_tax,\n",
    "                                tip_amount,\n",
    "                                tolls_amount,\n",
    "                                improvement_surcharge,\n",
    "                                total_amount\n",
    "                        )\n",
    "                        values (%s,%s,%s,%s,%s, %s,%s,%s,%s,%s, %s,%s,%s,%s,%s, %s,%s,%s,%s)'''\n",
    "\n",
    "    try:\n",
    "        cur = conn.cursor()\n",
    "        total = 0  # count how many rows are inserted\n",
    "        with open(filename, 'r') as file:\n",
    "            # Result: a tuple of 19 string values\n",
    "            rows = [tuple(line.strip().split(',')) for line in file if line]\n",
    "            \n",
    "            # Fill the table by inserting data row by row iteration\n",
    "            for row in rows:\n",
    "                if row[0].isalpha(): # Skip header if exists\n",
    "                    pass\n",
    "                else:\n",
    "                    cur.execute(q_insert_data, row)\n",
    "                    total += 1\n",
    "\n",
    "            conn.commit() # Commit the changes to the db\n",
    "            print(f'{total} rows inserted out of {len(rows)}')\n",
    "\n",
    "    # Print error message if query fails\n",
    "    except psycopg2.DatabaseError:\n",
    "        print (\"Failed to copy data to the table\")\n",
    "\n",
    "    finally:\n",
    "        cur.close()\n",
    "        conn.close ()"
   ]
  },
  {
   "cell_type": "code",
   "execution_count": 9,
   "metadata": {
    "tags": []
   },
   "outputs": [
    {
     "output_type": "stream",
     "name": "stdout",
     "text": [
      "499999 rows inserted out of 500000\n",
      "500000 rows inserted out of 500000\n",
      "500000 rows inserted out of 500000\n",
      "500000 rows inserted out of 500000\n",
      "500000 rows inserted out of 500000\n",
      "500000 rows inserted out of 500000\n",
      "500000 rows inserted out of 500000\n",
      "500000 rows inserted out of 500000\n",
      "500000 rows inserted out of 500000\n",
      "500000 rows inserted out of 500000\n",
      "500000 rows inserted out of 500000\n",
      "500000 rows inserted out of 500000\n",
      "500000 rows inserted out of 500000\n",
      "500000 rows inserted out of 500000\n",
      "500000 rows inserted out of 500000\n",
      "500000 rows inserted out of 500000\n",
      "500000 rows inserted out of 500000\n",
      "Failed to copy data to the table\n",
      "500000 rows inserted out of 500000\n",
      "500000 rows inserted out of 500000\n",
      "500000 rows inserted out of 500000\n",
      "500000 rows inserted out of 500000\n",
      "500000 rows inserted out of 500000\n",
      "500000 rows inserted out of 500000\n",
      "500000 rows inserted out of 500000\n",
      "248987 rows inserted out of 248987\n"
     ]
    }
   ],
   "source": [
    "# Check the function outcome with a subset of data\n",
    "for i in range(len(Jan)):\n",
    "    fill_table_with_data(Jan[i], 'taxi_jan')"
   ]
  },
  {
   "cell_type": "code",
   "execution_count": 10,
   "metadata": {},
   "outputs": [],
   "source": [
    "# Copy all the NY taxi data available to the database\n",
    "for i in range(len(Apr)):\n",
    "    fill_table_with_data(Apr[i], 'taxi_apr')"
   ]
  },
  {
   "cell_type": "code",
   "execution_count": null,
   "metadata": {},
   "outputs": [],
   "source": []
  },
  {
   "cell_type": "code",
   "execution_count": null,
   "metadata": {},
   "outputs": [],
   "source": [
    "q_make_points = '''\n",
    "                select\n",
    "                ST_MakePoint(pickup_longiutde, pickup_latitude) as pickup_point,\n",
    "                ST_MakePoint(dropoff_longiutde, dropoff_latitude) as dropoff_point\n",
    "                from taxi\n",
    "                '''\n",
    "cur.execute(q_make_points)"
   ]
  },
  {
   "cell_type": "code",
   "execution_count": 8,
   "metadata": {},
   "outputs": [],
   "source": []
  }
 ]
}