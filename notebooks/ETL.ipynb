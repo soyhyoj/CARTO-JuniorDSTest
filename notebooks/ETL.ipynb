{
 "metadata": {
  "language_info": {
   "codemirror_mode": {
    "name": "ipython",
    "version": 3
   },
   "file_extension": ".py",
   "mimetype": "text/x-python",
   "name": "python",
   "nbconvert_exporter": "python",
   "pygments_lexer": "ipython3",
   "version": "3.8.5-final"
  },
  "orig_nbformat": 2,
  "kernelspec": {
   "name": "python3",
   "display_name": "Python 3"
  }
 },
 "nbformat": 4,
 "nbformat_minor": 2,
 "cells": [
  {
   "cell_type": "code",
   "execution_count": 1,
   "metadata": {},
   "outputs": [],
   "source": [
    "import psycopg2\n",
    "import glob"
   ]
  },
  {
   "cell_type": "code",
   "execution_count": 2,
   "metadata": {},
   "outputs": [],
   "source": [
    "# Try connection to the database 'carto'\n",
    "try:\n",
    "    #conn for connection\n",
    "    conn =  psycopg2.connect(dbname='carto', user='carto', password='carto', host='postgis', port='5432')\n",
    "except psycopg2.DatabaseError:\n",
    "    print (\"I am unable to connect the database\")"
   ]
  },
  {
   "cell_type": "code",
   "execution_count": 3,
   "metadata": {},
   "outputs": [],
   "source": [
    "# Prepare a query to create table for NY taxi data\n",
    "q_create_table = \"\"\"\n",
    "                 drop table if exists taxi;\n",
    "                 create table taxi\n",
    "                (\n",
    "                    vendorID int,\n",
    "                    tpep_pickup_datetime timestamp,\n",
    "                    tpep_dropoff_datetime timestamp,\n",
    "                    passenger_count int,\n",
    "                    trip_distance numeric,\n",
    "                    pickup_longitude numeric,\n",
    "                    pickup_latitude numeric,\n",
    "                    RateCodeID int,\n",
    "                    store_and_fwd_flag char(1),\n",
    "                    dropoff_longitude numeric,\n",
    "                    dropoff_latitude numeric,\n",
    "                    payment_type int,\n",
    "                    fare_amount numeric,\n",
    "                    extra numeric,\n",
    "                    mta_tax numeric,\n",
    "                    tip_amount numeric,\n",
    "                    tolls_amount numeric,\n",
    "                    improvement_surcharge numeric,\n",
    "                    total_amount numeric\n",
    "                )\n",
    "                \"\"\"\n"
   ]
  },
  {
   "cell_type": "code",
   "execution_count": 4,
   "metadata": {},
   "outputs": [
    {
     "output_type": "stream",
     "name": "stdout",
     "text": [
      "Table created\n"
     ]
    }
   ],
   "source": [
    "# Create a 'taxi' table inside the postgis database\n",
    "try:\n",
    "    cur = conn.cursor()  # initiate cursor\n",
    "    cur.execute(q_create_table)  # query\n",
    "    conn.commit()\n",
    "    print('Table created')\n",
    "\n",
    "except psycopg2.DatabaseError: \n",
    "    print (\"Failed to create the table\")"
   ]
  },
  {
   "cell_type": "code",
   "execution_count": 5,
   "metadata": {},
   "outputs": [
    {
     "output_type": "execute_result",
     "data": {
      "text/plain": [
       "['../data/NY_taxi_data/yellow_tripdata_2015-01_00',\n",
       " '../data/NY_taxi_data/yellow_tripdata_2015-01_01',\n",
       " '../data/NY_taxi_data/yellow_tripdata_2015-01_02']"
      ]
     },
     "metadata": {},
     "execution_count": 5
    }
   ],
   "source": [
    "# Create the list of NY taxi data files\n",
    "filenames = sorted(glob.glob('../data/NY_taxi_data/*')) # list all files in ascending order\n",
    "filenames[:3]"
   ]
  },
  {
   "cell_type": "code",
   "execution_count": 7,
   "metadata": {
    "tags": []
   },
   "outputs": [
    {
     "output_type": "stream",
     "name": "stdout",
     "text": [
      "Data inserted to the table\n"
     ]
    }
   ],
   "source": [
    "try:\n",
    "    with open(filenames[1], 'r') as file:\n",
    "        rows = [tuple(line.strip().split(',')) for line in file if line]\n",
    "        \n",
    "        query = f'''insert into taxi\n",
    "                   (\n",
    "                        vendorID,\n",
    "                        tpep_pickup_datetime,\n",
    "                        tpep_dropoff_datetime,\n",
    "                        passenger_count,\n",
    "                        trip_distance,\n",
    "                        pickup_longitude,\n",
    "                        pickup_latitude,\n",
    "                        RateCodeID,\n",
    "                        store_and_fwd_flag,\n",
    "                        dropoff_longitude,\n",
    "                        dropoff_latitude,\n",
    "                        payment_type,\n",
    "                        fare_amount,\n",
    "                        extra,\n",
    "                        mta_tax,\n",
    "                        tip_amount,\n",
    "                        tolls_amount,\n",
    "                        improvement_surcharge,\n",
    "                        total_amount\n",
    "                    )\n",
    "                   values (%s, %s, %s, %s, %s, %s, %s, %s, %s, %s, %s, %s, %s, %s, %s, %s, %s, %s, %s)'''\n",
    "    \n",
    "        for row in rows:\n",
    "            # print(query)\n",
    "            # print(row)\n",
    "            # break\n",
    "            cur.execute(query, row)\n",
    "\n",
    "    conn.commit()\n",
    "    print('Data inserted to the table')\n",
    "\n",
    "except psycopg2.DatabaseError:\n",
    "    print (\"Failed to copy data to the table\")"
   ]
  },
  {
   "cell_type": "code",
   "execution_count": null,
   "metadata": {},
   "outputs": [],
   "source": [
    "q_make_points = '''\n",
    "                select\n",
    "                ST_MakePoint(pickup_longiutde, pickup_latitude) as pickup_point,\n",
    "                ST_MakePoint(dropoff_longiutde, dropoff_latitude) as dropoff_point\n",
    "                from taxi\n",
    "                '''\n",
    "cur.execute(q_make_points)"
   ]
  },
  {
   "cell_type": "code",
   "execution_count": 8,
   "metadata": {},
   "outputs": [],
   "source": [
    "#close connection for this client\n",
    "if conn:\n",
    "    conn.close ()"
   ]
  }
 ]
}